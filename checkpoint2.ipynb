{
 "cells": [
  {
   "cell_type": "code",
   "execution_count": 6,
   "metadata": {},
   "outputs": [],
   "source": [
    "# exercice1\n",
    "l=[]\n",
    "for i in range(2000,3201):\n",
    "    if (i%7 == 0) and (i%5 != 0):\n",
    "        l.append(i)"
   ]
  },
  {
   "cell_type": "code",
   "execution_count": 7,
   "metadata": {},
   "outputs": [
    {
     "name": "stdout",
     "output_type": "stream",
     "text": [
      "[2002, 2009, 2016, 2023, 2037, 2044, 2051, 2058, 2072, 2079, 2086, 2093, 2107, 2114, 2121, 2128, 2142, 2149, 2156, 2163, 2177, 2184, 2191, 2198, 2212, 2219, 2226, 2233, 2247, 2254, 2261, 2268, 2282, 2289, 2296, 2303, 2317, 2324, 2331, 2338, 2352, 2359, 2366, 2373, 2387, 2394, 2401, 2408, 2422, 2429, 2436, 2443, 2457, 2464, 2471, 2478, 2492, 2499, 2506, 2513, 2527, 2534, 2541, 2548, 2562, 2569, 2576, 2583, 2597, 2604, 2611, 2618, 2632, 2639, 2646, 2653, 2667, 2674, 2681, 2688, 2702, 2709, 2716, 2723, 2737, 2744, 2751, 2758, 2772, 2779, 2786, 2793, 2807, 2814, 2821, 2828, 2842, 2849, 2856, 2863, 2877, 2884, 2891, 2898, 2912, 2919, 2926, 2933, 2947, 2954, 2961, 2968, 2982, 2989, 2996, 3003, 3017, 3024, 3031, 3038, 3052, 3059, 3066, 3073, 3087, 3094, 3101, 3108, 3122, 3129, 3136, 3143, 3157, 3164, 3171, 3178, 3192, 3199]\n"
     ]
    }
   ],
   "source": [
    "print(l)\n"
   ]
  },
  {
   "cell_type": "code",
   "execution_count": 10,
   "metadata": {},
   "outputs": [
    {
     "name": "stdout",
     "output_type": "stream",
     "text": [
      "donner un nombre entier5\n",
      "120\n"
     ]
    }
   ],
   "source": [
    "# Exercice2\n",
    "x= input(\"donner un nombre entier\")\n",
    "x= int(x)\n",
    "s=1\n",
    "while (x>0):\n",
    "    s=s*x\n",
    "    x=x-1\n",
    "print(s)"
   ]
  },
  {
   "cell_type": "code",
   "execution_count": 14,
   "metadata": {},
   "outputs": [
    {
     "name": "stdout",
     "output_type": "stream",
     "text": [
      "donner un nombre entier5\n",
      "120\n"
     ]
    }
   ],
   "source": [
    "\n",
    "x= input(\"donner un nombre entier\")\n",
    "x= int(x)\n",
    "s=1\n",
    "if x>0:\n",
    "    for i in range(1,x+1):\n",
    "        s=s*i\n",
    "elif x==0:\n",
    "    s=1\n",
    "print(s)\n",
    "    \n",
    "    "
   ]
  },
  {
   "cell_type": "code",
   "execution_count": 15,
   "metadata": {},
   "outputs": [
    {
     "name": "stdout",
     "output_type": "stream",
     "text": [
      "donner un nombre entier0\n",
      "1\n"
     ]
    }
   ],
   "source": [
    "x= input(\"donner un nombre entier\")\n",
    "x= int(x)\n",
    "s=1\n",
    "if x>0:\n",
    "    for i in range(1,x+1):\n",
    "        s=s*i\n",
    "elif x==0:\n",
    "    s=1\n",
    "print(s)"
   ]
  },
  {
   "cell_type": "code",
   "execution_count": 16,
   "metadata": {},
   "outputs": [
    {
     "name": "stdout",
     "output_type": "stream",
     "text": [
      "donner un nombre entier8\n",
      "{1: 1, 2: 4, 3: 9, 4: 16, 5: 25, 6: 36, 7: 49, 8: 64}\n"
     ]
    }
   ],
   "source": [
    "# Exercice3\n",
    "\n",
    "dic={}\n",
    "x= input(\"donner un nombre entier\")\n",
    "x= int(x)\n",
    "for i in range(1,x+1):\n",
    "    dic[i]= i*i\n",
    "print(dic)"
   ]
  },
  {
   "cell_type": "code",
   "execution_count": 19,
   "metadata": {},
   "outputs": [
    {
     "name": "stdout",
     "output_type": "stream",
     "text": [
      "donner un nombre entier8\n",
      "{1: 1, 2: 4, 3: 9, 4: 16, 5: 25, 6: 36, 7: 49, 8: 64}\n"
     ]
    }
   ],
   "source": [
    "dic={}\n",
    "x= input(\"donner un nombre entier\")\n",
    "x= int(x)\n",
    "i=1\n",
    "while i < (x+1):\n",
    "    dic[i]= i*i\n",
    "    i=i+1\n",
    "print(dic)"
   ]
  },
  {
   "cell_type": "code",
   "execution_count": 23,
   "metadata": {},
   "outputs": [
    {
     "name": "stdout",
     "output_type": "stream",
     "text": [
      "donner un nombre entier8\n",
      "{1: 1, 2: 4, 3: 9, 4: 16, 5: 25, 6: 36, 7: 49, 8: 64}\n"
     ]
    }
   ],
   "source": [
    "dic={}\n",
    "x= input(\"donner un nombre entier\")\n",
    "x= int(x)\n",
    "dic={i:i*i  for i in range(1,x+1)}\n",
    "print(dic)"
   ]
  },
  {
   "cell_type": "code",
   "execution_count": 20,
   "metadata": {},
   "outputs": [
    {
     "name": "stdout",
     "output_type": "stream",
     "text": [
      "donner une chaine de caractéreissam\n",
      "donner un entier3\n",
      "issm\n"
     ]
    }
   ],
   "source": [
    "# Exercice4\n",
    "\n",
    "ch= input(\"donner une chaine de caractére\")\n",
    "while(1):\n",
    "    x = int(input(\"donner un entier\"))\n",
    "    if (x>=0) and (x<len(ch)):\n",
    "        break\n",
    "ch = ch[:x]+ch[x+1:]\n",
    "print(ch)"
   ]
  },
  {
   "cell_type": "code",
   "execution_count": 24,
   "metadata": {},
   "outputs": [
    {
     "name": "stdout",
     "output_type": "stream",
     "text": [
      "donner une chaine de caractéreissam\n",
      "donner un entier4\n"
     ]
    }
   ],
   "source": [
    "ch= input(\"donner une chaine de caractére\")\n",
    "while(1):\n",
    "    x = int(input(\"donner un entier\"))\n",
    "    if (x>=0) and (x<len(ch)):\n",
    "        break\n",
    "ch0=''\n",
    "for i in range (len(ch)):\n",
    "    if i!= x:\n",
    "        ch0=ch0+ch[i]"
   ]
  },
  {
   "cell_type": "code",
   "execution_count": 30,
   "metadata": {},
   "outputs": [
    {
     "name": "stdout",
     "output_type": "stream",
     "text": [
      "[[0 1]\n",
      " [2 3]\n",
      " [4 5]]\n",
      "[[0, 1], [2, 3], [4, 5]]\n"
     ]
    }
   ],
   "source": [
    "# Exercice5\n",
    "\n",
    "import numpy as np\n",
    "new_array=np.array([[0,1],[2,3],[4,5]])\n",
    "print(new_array)\n",
    "l=new_array.tolist()\n",
    "print(l)"
   ]
  },
  {
   "cell_type": "code",
   "execution_count": 31,
   "metadata": {},
   "outputs": [
    {
     "name": "stdout",
     "output_type": "stream",
     "text": [
      "[[ 1. -1.]\n",
      " [-1.  1.]]\n"
     ]
    }
   ],
   "source": [
    "# Exercice6\n",
    "\n",
    "matrix1=np.array([0,1,2])\n",
    "matrix2=np.array([2,1,0])\n",
    "matrix=np.cov(matrix1,matrix2)\n",
    "print(matrix)"
   ]
  },
  {
   "cell_type": "code",
   "execution_count": 36,
   "metadata": {},
   "outputs": [
    {
     "ename": "SyntaxError",
     "evalue": "invalid syntax (<ipython-input-36-3d4d6fc2d42a>, line 3)",
     "output_type": "error",
     "traceback": [
      "\u001b[1;36m  File \u001b[1;32m\"<ipython-input-36-3d4d6fc2d42a>\"\u001b[1;36m, line \u001b[1;32m3\u001b[0m\n\u001b[1;33m    ch=input'donner une série d entier separé par une ,'\u001b[0m\n\u001b[1;37m            ^\u001b[0m\n\u001b[1;31mSyntaxError\u001b[0m\u001b[1;31m:\u001b[0m invalid syntax\n"
     ]
    }
   ],
   "source": [
    "C=50\n",
    "H=30\n",
    "ch=input\"donner une série d entier\"\n",
    "l=ch.split(',')\n",
    "for d in l:\n",
    "    print(((2*C*int(d))/H)**0.5)"
   ]
  },
  {
   "cell_type": "code",
   "execution_count": 37,
   "metadata": {},
   "outputs": [
    {
     "ename": "SyntaxError",
     "evalue": "invalid syntax (<ipython-input-37-4f17ea4c724e>, line 3)",
     "output_type": "error",
     "traceback": [
      "\u001b[1;36m  File \u001b[1;32m\"<ipython-input-37-4f17ea4c724e>\"\u001b[1;36m, line \u001b[1;32m3\u001b[0m\n\u001b[1;33m    ch=input\"donner une série d entier\"\u001b[0m\n\u001b[1;37m            ^\u001b[0m\n\u001b[1;31mSyntaxError\u001b[0m\u001b[1;31m:\u001b[0m invalid syntax\n"
     ]
    }
   ],
   "source": [
    "C=50\n",
    "H=30\n",
    "ch=input\"donner une série d entier\"\n",
    "l=ch.split(',')\n",
    "for d in l:\n",
    "    print(((2*C*int(d))/H)**0.5)"
   ]
  },
  {
   "cell_type": "code",
   "execution_count": 38,
   "metadata": {},
   "outputs": [
    {
     "name": "stdout",
     "output_type": "stream",
     "text": [
      "donner une série d entier100,150,180\n",
      "18.257418583505537\n",
      "22.360679774997898\n",
      "24.49489742783178\n"
     ]
    }
   ],
   "source": [
    "C=50\n",
    "H=30\n",
    "ch=input(\"donner une série d entier\")\n",
    "l=ch.split(',')\n",
    "for d in l:\n",
    "    print(((2*C*int(d))/H)**0.5)"
   ]
  },
  {
   "cell_type": "code",
   "execution_count": null,
   "metadata": {},
   "outputs": [],
   "source": [
    "#arrondi 1 \n",
    "d=7.2\n",
    "ch=str(d)\n",
    "l=split('.')\n",
    "if int(l[1][0])<5:\n",
    "    "
   ]
  },
  {
   "cell_type": "code",
   "execution_count": 40,
   "metadata": {},
   "outputs": [
    {
     "data": {
      "text/plain": [
       "1"
      ]
     },
     "execution_count": 40,
     "metadata": {},
     "output_type": "execute_result"
    }
   ],
   "source": [
    "#arrondi 2 \n",
    "x= ch.find('.')\n",
    "int(ch[x+1])"
   ]
  },
  {
   "cell_type": "code",
   "execution_count": 43,
   "metadata": {},
   "outputs": [
    {
     "name": "stdout",
     "output_type": "stream",
     "text": [
      "donner une série d entier100,150,180\n",
      "18\n",
      "22\n",
      "24\n"
     ]
    }
   ],
   "source": [
    "C=50\n",
    "H=30\n",
    "ch=input(\"donner une série d entier\")\n",
    "l=ch.split(',')\n",
    "for d in l:\n",
    "    print(round(((2*C*int(d))/H)**0.5))"
   ]
  },
  {
   "cell_type": "code",
   "execution_count": null,
   "metadata": {},
   "outputs": [],
   "source": []
  }
 ],
 "metadata": {
  "kernelspec": {
   "display_name": "Python 3",
   "language": "python",
   "name": "python3"
  },
  "language_info": {
   "codemirror_mode": {
    "name": "ipython",
    "version": 3
   },
   "file_extension": ".py",
   "mimetype": "text/x-python",
   "name": "python",
   "nbconvert_exporter": "python",
   "pygments_lexer": "ipython3",
   "version": "3.8.3"
  }
 },
 "nbformat": 4,
 "nbformat_minor": 4
}
